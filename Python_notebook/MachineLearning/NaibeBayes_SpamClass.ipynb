{
 "cells": [
  {
   "cell_type": "markdown",
   "id": "3c131cfa",
   "metadata": {},
   "source": [
    "# NB (el camino facil)\n",
    "\n",
    "*¡Haremos trampa usando sklearn.naive_bayes para entrenar el clasificador de spam! La mayor parte del código es solo cargar nuestros datos de entrenamiento en un marco de datos pandas con el que podemos jugar:*"
   ]
  },
  {
   "cell_type": "code",
   "execution_count": 62,
   "id": "a599685a",
   "metadata": {},
   "outputs": [],
   "source": [
    "import pandas as pd\n",
    "from sklearn.feature_extraction.text import CountVectorizer\n",
    "from sklearn.naive_bayes import MultinomialNB\n",
    "\n",
    "data=pd.read_csv(r'C:\\Users\\Dell Inspiron\\OneDrive\\Escritorio\\Python\\completeSpamAssassin.csv')"
   ]
  },
  {
   "cell_type": "code",
   "execution_count": 63,
   "id": "0c318f80",
   "metadata": {},
   "outputs": [
    {
     "data": {
      "text/html": [
       "<div>\n",
       "<style scoped>\n",
       "    .dataframe tbody tr th:only-of-type {\n",
       "        vertical-align: middle;\n",
       "    }\n",
       "\n",
       "    .dataframe tbody tr th {\n",
       "        vertical-align: top;\n",
       "    }\n",
       "\n",
       "    .dataframe thead th {\n",
       "        text-align: right;\n",
       "    }\n",
       "</style>\n",
       "<table border=\"1\" class=\"dataframe\">\n",
       "  <thead>\n",
       "    <tr style=\"text-align: right;\">\n",
       "      <th></th>\n",
       "      <th>Body</th>\n",
       "      <th>Label</th>\n",
       "    </tr>\n",
       "  </thead>\n",
       "  <tbody>\n",
       "    <tr>\n",
       "      <th>0</th>\n",
       "      <td>\\nSave up to 70% on Life Insurance.\\nWhy Spend...</td>\n",
       "      <td>spam</td>\n",
       "    </tr>\n",
       "    <tr>\n",
       "      <th>1</th>\n",
       "      <td>1) Fight The Risk of Cancer!\\nhttp://www.adcli...</td>\n",
       "      <td>spam</td>\n",
       "    </tr>\n",
       "    <tr>\n",
       "      <th>2</th>\n",
       "      <td>1) Fight The Risk of Cancer!\\nhttp://www.adcli...</td>\n",
       "      <td>spam</td>\n",
       "    </tr>\n",
       "    <tr>\n",
       "      <th>3</th>\n",
       "      <td>##############################################...</td>\n",
       "      <td>spam</td>\n",
       "    </tr>\n",
       "    <tr>\n",
       "      <th>4</th>\n",
       "      <td>I thought you might like these:\\n1) Slim Down ...</td>\n",
       "      <td>spam</td>\n",
       "    </tr>\n",
       "  </tbody>\n",
       "</table>\n",
       "</div>"
      ],
      "text/plain": [
       "                                                Body Label\n",
       "0  \\nSave up to 70% on Life Insurance.\\nWhy Spend...  spam\n",
       "1  1) Fight The Risk of Cancer!\\nhttp://www.adcli...  spam\n",
       "2  1) Fight The Risk of Cancer!\\nhttp://www.adcli...  spam\n",
       "3  ##############################################...  spam\n",
       "4  I thought you might like these:\\n1) Slim Down ...  spam"
      ]
     },
     "execution_count": 63,
     "metadata": {},
     "output_type": "execute_result"
    }
   ],
   "source": [
    "data=data[['Body','Label']]\n",
    "data = data[data['Body'].notna()]\n",
    "data['Label'] = data['Label'].replace([0], 'ham')\n",
    "data['Label'] = data['Label'].replace([1], 'spam')\n",
    "data.head()\n",
    "\n"
   ]
  },
  {
   "cell_type": "markdown",
   "id": "f7b444d1",
   "metadata": {},
   "source": [
    "**Ahora usaremos un CountVectorizer para dividir cada mensaje en su lista de palabras, y lanzarlo en un clasificador MultinomialNB. ¡Llama a fit() y tenemos un filtro de spam entrenado listo para funcionar! Es así de fácil**"
   ]
  },
  {
   "cell_type": "code",
   "execution_count": 64,
   "id": "c863facb",
   "metadata": {},
   "outputs": [
    {
     "data": {
      "text/plain": [
       "MultinomialNB()"
      ]
     },
     "execution_count": 64,
     "metadata": {},
     "output_type": "execute_result"
    }
   ],
   "source": [
    "vectorizador=CountVectorizer()\n",
    "cantidad=vectorizador.fit_transform(data['Body'].values)\n",
    "\n",
    "clasificador=MultinomialNB()\n",
    "targets=data['Label'].values\n",
    "\n",
    "clasificador.fit(cantidad,targets)"
   ]
  },
  {
   "cell_type": "markdown",
   "id": "e98e3c6a",
   "metadata": {},
   "source": [
    "**Probemos**"
   ]
  },
  {
   "cell_type": "code",
   "execution_count": 67,
   "id": "474ff422",
   "metadata": {},
   "outputs": [
    {
     "data": {
      "text/plain": [
       "array(['spam', 'ham'], dtype='<U4')"
      ]
     },
     "execution_count": 67,
     "metadata": {},
     "output_type": "execute_result"
    }
   ],
   "source": [
    "ejemplo=['Free','Fight The Risk of Cancer']\n",
    "\n",
    "cont_ejemplos=vectorizador.transform(ejemplo)\n",
    "\n",
    "prediccion=clasificador.predict(cont_ejemplos)\n",
    "\n",
    "prediccion"
   ]
  },
  {
   "cell_type": "code",
   "execution_count": 57,
   "id": "f0d5bb2c",
   "metadata": {},
   "outputs": [],
   "source": [
    "data.to_csv('C:/Users/Dell Inspiron/OneDrive/Escritorio/Python/Data.csv')"
   ]
  },
  {
   "cell_type": "code",
   "execution_count": null,
   "id": "8899eab3",
   "metadata": {},
   "outputs": [],
   "source": []
  }
 ],
 "metadata": {
  "kernelspec": {
   "display_name": "Python 3 (ipykernel)",
   "language": "python",
   "name": "python3"
  },
  "language_info": {
   "codemirror_mode": {
    "name": "ipython",
    "version": 3
   },
   "file_extension": ".py",
   "mimetype": "text/x-python",
   "name": "python",
   "nbconvert_exporter": "python",
   "pygments_lexer": "ipython3",
   "version": "3.9.13"
  }
 },
 "nbformat": 4,
 "nbformat_minor": 5
}
