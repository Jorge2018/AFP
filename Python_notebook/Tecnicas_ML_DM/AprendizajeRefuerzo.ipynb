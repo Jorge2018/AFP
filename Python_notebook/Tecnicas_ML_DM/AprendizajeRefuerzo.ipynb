{
 "cells": [
  {
   "cell_type": "markdown",
   "id": "e96a4cff",
   "metadata": {},
   "source": [
    "# Aprendizaje por refuerzo. \n",
    "*Vamos a describir el \"problema del taxi\". Queremos construir un taxi autónomo que pueda recoger pasajeros en uno de un conjunto de ubicaciones fijas, dejarlos en otro lugar y llegar allí en el menor tiempo posible evitando obstáculos. El AI GYM nos permite crear este entorno rápidamente*"
   ]
  },
  {
   "cell_type": "code",
   "execution_count": 3,
   "id": "27f58360",
   "metadata": {},
   "outputs": [
    {
     "name": "stdout",
     "output_type": "stream",
     "text": [
      "+---------+\n",
      "|R: | : :G|\n",
      "| : |\u001b[43m \u001b[0m: : |\n",
      "| : : : : |\n",
      "| | : | : |\n",
      "|\u001b[34;1mY\u001b[0m| : |\u001b[35mB\u001b[0m: |\n",
      "+---------+\n",
      "\n"
     ]
    }
   ],
   "source": [
    "import gym \n",
    "import random\n",
    "\n",
    "random.seed(1234)\n",
    "\n",
    "calles=gym.make(\"Taxi-v3\").env\n",
    "calles.render()"
   ]
  },
  {
   "cell_type": "markdown",
   "id": "0bcea511",
   "metadata": {},
   "source": [
    "*Analicemos lo que estamos viendo aquí: R, G, B e Y son lugares de recogida de entrega. La letra azul indica de dónde tenemos que recoger a alguien. La letra magenta indica a dónde quiere ir ese pasajero. Las líneas continuas representan paredes que el taxi no puede cruzar. El rectángulo lleno representa el taxi en sí: es amarillo cuando está vacío y verde cuando lleva un pasajero.*\n",
    "*Nuestro pequeño mundo aquí, que hemos llamado \"calles\", es una cuadrícula de 5x5. El estado de este mundo en cualquier momento puede ser definido por: Dónde está el taxi (una de 5x5=25 ubicaciones). Cuál es el destino actual (4 posibilidades) Dónde está el pasajero (5 posibilidades: en uno de los destinos, o dentro del taxi)*\n",
    "*Así que hay un total de 25x4x5=500 estados posibles que describen nuestro mundo. Para cada estado, hay seis acciones posibles: Move South, Nort, East, West. Recoger a un pasajero. Dejar a un transeúnte*\n",
    "*Q-learning se llevará a cabo utilizando las siguientes recompensas y sanciones en cada estado: Una caída exitosa produce +20 puntos. Cada paso dado mientras conduce, un pasajero produce una penalización de -1 punto. Recoger o dejar en un lugar ilegal produce una penalización de -10 puntos. Moverse a través de una pared simplemente no está permitido en absoluto. Definamos un estado inicial, con el taxi en la ubicación (2,3), el pasajero en la ubicación de recogida 2 y el destino en la ubicación 0*\n"
   ]
  },
  {
   "cell_type": "code",
   "execution_count": 4,
   "id": "482f8ccf",
   "metadata": {},
   "outputs": [
    {
     "name": "stdout",
     "output_type": "stream",
     "text": [
      "+---------+\n",
      "|\u001b[35mR\u001b[0m: | : :G|\n",
      "| : | : : |\n",
      "| : : :\u001b[43m \u001b[0m: |\n",
      "| | : | : |\n",
      "|\u001b[34;1mY\u001b[0m| : |B: |\n",
      "+---------+\n",
      "\n"
     ]
    }
   ],
   "source": [
    "parada_inicial= calles.encode(2,3,2,0)\n",
    "calles.s=parada_inicial\n",
    "calles.render()"
   ]
  },
  {
   "cell_type": "markdown",
   "id": "108b1cec",
   "metadata": {},
   "source": [
    "*Examinemos la tabla de recompensas para este estado inicial*"
   ]
  },
  {
   "cell_type": "code",
   "execution_count": 5,
   "id": "1248de1c",
   "metadata": {},
   "outputs": [
    {
     "data": {
      "text/plain": [
       "{0: [(1.0, 368, -1, False)],\n",
       " 1: [(1.0, 168, -1, False)],\n",
       " 2: [(1.0, 288, -1, False)],\n",
       " 3: [(1.0, 248, -1, False)],\n",
       " 4: [(1.0, 268, -10, False)],\n",
       " 5: [(1.0, 268, -10, False)]}"
      ]
     },
     "execution_count": 5,
     "metadata": {},
     "output_type": "execute_result"
    }
   ],
   "source": [
    "calles.P[parada_inicial]"
   ]
  },
  {
   "cell_type": "markdown",
   "id": "145ebcb2",
   "metadata": {},
   "source": [
    "*Así es como interpretan esto: cada fila corresponde a una acción potencial en este estado: moverse hacia el sur, norte, este u oeste, entrega de operaciones de recogida. Los cuatro valores de cada fila son la probabilidad asignada a esa acción, el siguiente estado que resulta de esa acción, la recompensa por esa acción y si esa acción indica que se produjo una caída exitosa. Entonces, por ejemplo, mudarnos al norte desde este estado nos pondría en el estado número 368, incurriría en una multa de -1 por tomar tiempo y no resultaría en una caída exitosa. Entonces, hagamos Q-learning primero necesitamos entrenar nuestro modelo. A un alto nivel, entrenaremos más de 10000 carreras de taxis simuladas. Para cada carrera, pasaremos el tiempo, con un 10% de probabilidad en cada paso de hacer un paso aleatorio y exploratorio en lugar de usar los valores Q aprendidos para guiar nuestras acciones.*\n"
   ]
  },
  {
   "cell_type": "code",
   "execution_count": 12,
   "id": "9d842b66",
   "metadata": {},
   "outputs": [],
   "source": [
    "import numpy as np\n",
    "\n",
    "q_table=np.zeros([calles.observation_space.n, calles.action_space.n])\n",
    "\n",
    "radioAprend=0.1\n",
    "factorDisc=0.6\n",
    "exploracion=0.1\n",
    "epocas=10000\n",
    "\n",
    "for taxi_run in range(epocas):\n",
    "    estado=calles.reset()\n",
    "    term=False\n",
    "    \n",
    "    while not term:\n",
    "        random_value=random.uniform(0,1)\n",
    "        if (random_value < exploracion):\n",
    "            accion=calles.action_space.sample()\n",
    "        else:\n",
    "            accion=np.argmax(q_table[estado])\n",
    "            \n",
    "        sigEstado,reward,term, info=calles.step(accion)\n",
    "        \n",
    "        prev_q=q_table[estado,accion]\n",
    "        next_max_q=np.max(q_table[sigEstado])\n",
    "        new_q=(1- radioAprend) * prev_q + radioAprend * (reward + factorDisc * next_max_q)\n",
    "        q_table[estado,accion]=new_q\n",
    "        \n",
    "        estado=sigEstado\n",
    "        "
   ]
  },
  {
   "cell_type": "markdown",
   "id": "fa294eef",
   "metadata": {},
   "source": [
    "*¡así que ahora tenemos una tabla de valores Q que se pueden usar rápidamente para determinar el siguiente paso óptimo para cualquier estado dado! Revisemos la tabla para nuestro estado inicial anterior*"
   ]
  },
  {
   "cell_type": "code",
   "execution_count": 14,
   "id": "571fa62c",
   "metadata": {},
   "outputs": [
    {
     "data": {
      "text/plain": [
       "array([-2.41149071, -2.40588899, -2.40643816, -2.3639511 , -7.72682127,\n",
       "       -6.30033528])"
      ]
     },
     "execution_count": 14,
     "metadata": {},
     "output_type": "execute_result"
    }
   ],
   "source": [
    "q_table[parada_inicial]"
   ]
  },
  {
   "cell_type": "markdown",
   "id": "e8dbc32f",
   "metadata": {},
   "source": [
    "*El valor q más bajo aquí corresponde a la acción \"ir al oeste\", que tiene sentido, esa es la ruta más directa hacia nuestro destino desde ese punto. ¡Parece funcionar! Veámoslo en acción*"
   ]
  },
  {
   "cell_type": "code",
   "execution_count": 17,
   "id": "120c3a01",
   "metadata": {},
   "outputs": [
    {
     "name": "stdout",
     "output_type": "stream",
     "text": [
      "Trip Numero2\n",
      "+---------+\n",
      "|R: | : :G|\n",
      "| : | : : |\n",
      "| : : : : |\n",
      "| | : | : |\n",
      "|\u001b[35m\u001b[34;1m\u001b[43mY\u001b[0m\u001b[0m\u001b[0m| : |B: |\n",
      "+---------+\n",
      "  (Dropoff)\n",
      "\n"
     ]
    }
   ],
   "source": [
    "from IPython.display import clear_output\n",
    "from time import sleep\n",
    "\n",
    "for tripnum in range (1,3):\n",
    "    estado=calles.reset()\n",
    "    term=False\n",
    "    \n",
    "    while not term:\n",
    "        accion=np.argmax(q_table[estado])\n",
    "        sigEstado,reward,term, info=calles.step(accion)\n",
    "        \n",
    "        clear_output(wait=True)\n",
    "        \n",
    "        print(\"Trip Numero\"+str(tripnum))\n",
    "        print(calles.render(mode='ansi'))\n",
    "        sleep(.5)\n",
    "        estado=sigEstado\n",
    "    sleep(2)"
   ]
  },
  {
   "cell_type": "code",
   "execution_count": null,
   "id": "c0249d94",
   "metadata": {},
   "outputs": [],
   "source": []
  }
 ],
 "metadata": {
  "kernelspec": {
   "display_name": "Python 3 (ipykernel)",
   "language": "python",
   "name": "python3"
  },
  "language_info": {
   "codemirror_mode": {
    "name": "ipython",
    "version": 3
   },
   "file_extension": ".py",
   "mimetype": "text/x-python",
   "name": "python",
   "nbconvert_exporter": "python",
   "pygments_lexer": "ipython3",
   "version": "3.9.13"
  }
 },
 "nbformat": 4,
 "nbformat_minor": 5
}
