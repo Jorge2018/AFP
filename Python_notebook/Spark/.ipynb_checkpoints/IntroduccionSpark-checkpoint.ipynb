{
 "cells": [
  {
   "cell_type": "markdown",
   "id": "881b4d8a",
   "metadata": {},
   "source": [
    "# Que es Spark\n",
    "\n",
    "*Un motor rápido y general para el procesamiento de datos a gran escala*\n",
    "*Es escalable, Programa de controlador -Contexto Spark. Administrador de clústeres (Spark, YARN). Ejecutor; Caché, Tareas)\n",
    "*Es rápido. Ejecute programas hasta 100 veces más rápido que hadoop mapreduce en memoria, o 10 veces más rápido en disco. DAG Engine (gráfico acíclico dirigido) optimiza los flujos de trabajo*\n",
    "*Tecnologia 'caliente' aca tenemos algunos 'clientes' que utilizan spark: Amazon, Ebay, NASA JPL, Groupon, TripAdviser, Yahoo, etc.*\n",
    "*No es tan difícil. Código en python, java o scala. Construido en torno a un concepto principal: el conjunto de datos distribuido resistente (RDD)*\n",
    "\n",
    "**Componentes de Spark**\n",
    "\n",
    "*Spark streaming, Spark SQL, MLLib, GraphX, SPARK CORE*\n",
    "\n",
    "**RDD quiere decir Resistente, Distribuido, Conjunto de datos**\n",
    "\n",
    "*El SparkContex. Creado por su programa impulsado. ¡Es responsable de hacer que los RDD sean resistentes y distribuidos! Crea RDD. El shell de chispa crea un objeto \"sc\" para usted*\n",
    "\n",
    "*Creación de RDD's. nums=parallelize([1,2,3,4]). hiveCTX= HiveContext(sc) rows=hiveCtx.sql(\"seleccione nombre, edad DE los usuarios\"). También puede crear desde: JDBC, Cassandra, HBase, Elasticsearch, JSON, CSV, archivos de secuencia, archivos de objetos, varios formatos comprimidos*\n",
    "\n",
    "*Transformando RDD's. map, flatmap, filter, distinct, sample, union, intersection, subtract, cartesian*\n",
    "\n",
    "**Map example**\n",
    "\n",
    "*rdd=sc.parallelize([1,2,3,4])*\n",
    "*rdd.map(lambda x:x*x)*\n",
    "\n",
    "*retorna -> 1,4,9,16*\n",
    "\n",
    "*¿Qué es esa cosa de Lambda? Muchos métodos RDD aceptan una función como parámetro*\n",
    "\n",
    "*rdd.map(lambda x:x*x)*\n",
    "\n",
    "*es igual a la siguiente funcion*\n",
    "\n",
    "def cuadrado(x):\n",
    "    return x*x\n",
    "    \n",
    "*rdd.map(cuadrado)*\n",
    "\n",
    "*Ahí ahora entiendes la programación funcional*\n",
    "\n",
    "**RDD acciones**\n",
    "*collect, count, countByValue, take, top, reduce y mas...*\n",
    "\n",
    "*Evaluación perezosa. ¡En realidad no sucede nada en su programa de manejo hasta que se llama a una acción!*"
   ]
  },
  {
   "cell_type": "code",
   "execution_count": null,
   "id": "57e400dc",
   "metadata": {},
   "outputs": [],
   "source": []
  }
 ],
 "metadata": {
  "kernelspec": {
   "display_name": "Python 3 (ipykernel)",
   "language": "python",
   "name": "python3"
  },
  "language_info": {
   "codemirror_mode": {
    "name": "ipython",
    "version": 3
   },
   "file_extension": ".py",
   "mimetype": "text/x-python",
   "name": "python",
   "nbconvert_exporter": "python",
   "pygments_lexer": "ipython3",
   "version": "3.9.13"
  }
 },
 "nbformat": 4,
 "nbformat_minor": 5
}
