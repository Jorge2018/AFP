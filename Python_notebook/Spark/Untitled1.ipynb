{
 "cells": [
  {
   "cell_type": "markdown",
   "id": "dbd1b494",
   "metadata": {},
   "source": [
    "# Introduccion MLLib\n",
    "\n",
    "**Algunas capacidades de MLLib**\n",
    "\n",
    "*Extracción de características. Frecuencia de términos/frecuencia inversa del documento útil para la búsqueda. Estadísticas básicas. Prueba de Chi-cuadrado, correlación de Pearson o Spearman, min, max, media, varianza. Regresión lineal, regresión logística, Support Vector Machine (SVM), Naive Classifier, Decision Trees, K-Means clustering, Análisis de componentes principales, descomposición de valores singulares. Regresión lineal, regresión logística, Support Vector Machine (SVM), Naive Classifier, Decision Trees, K-Means clustering, Análisis de componentes principales, descomposición de valores singulares. Recomendaciones que utilizan mínimos cuadrados alternos*\n",
    "\n",
    "**Tipos especiales de datos**\n",
    "\n",
    "*Vector(dense o sparse), Labeledpoint, Rating*"
   ]
  }
 ],
 "metadata": {
  "kernelspec": {
   "display_name": "Python 3 (ipykernel)",
   "language": "python",
   "name": "python3"
  },
  "language_info": {
   "codemirror_mode": {
    "name": "ipython",
    "version": 3
   },
   "file_extension": ".py",
   "mimetype": "text/x-python",
   "name": "python",
   "nbconvert_exporter": "python",
   "pygments_lexer": "ipython3",
   "version": "3.9.13"
  }
 },
 "nbformat": 4,
 "nbformat_minor": 5
}
