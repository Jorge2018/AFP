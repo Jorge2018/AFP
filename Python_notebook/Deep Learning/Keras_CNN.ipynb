{
 "cells": [
  {
   "cell_type": "markdown",
   "id": "b55c76fb",
   "metadata": {},
   "source": [
    "*Usemos Keras en el conjunto de datos MNIST nuevamente, esta vez usando una red neuronal convolucional que sea más adecuada para el procesamiento de imágenes. Las CNN son menos sensibles a dónde en la imagen está el patrón que estamos buscando.*\n",
    "\n",
    "*Con un perceptrón multicapa, logramos alrededor del 97% de precisión. Veamos si podemos superar eso.*\n",
    "\n",
    "*Como antes, comenzaremos importando las cosas que necesitamos, incluidos los nuevos tipos de capas de los que hablamos:*"
   ]
  },
  {
   "cell_type": "code",
   "execution_count": 1,
   "id": "036d0787",
   "metadata": {},
   "outputs": [],
   "source": [
    "import tensorflow\n",
    "from tensorflow.keras.datasets import mnist\n",
    "from tensorflow.keras.models import Sequential\n",
    "from tensorflow.keras.layers import Dense, Dropout, Conv2D, MaxPooling2D, Flatten\n",
    "from tensorflow.keras.optimizers import RMSprop"
   ]
  },
  {
   "cell_type": "markdown",
   "id": "f295a1f5",
   "metadata": {},
   "source": [
    "*Cargaremos nuestro conjunto de datos sin procesar exactamente como antes:*"
   ]
  },
  {
   "cell_type": "code",
   "execution_count": 2,
   "id": "8fcd0324",
   "metadata": {},
   "outputs": [],
   "source": [
    "(mnist_train_images, mnist_train_labels), (mnist_test_images, mnist_test_labels) = mnist.load_data()"
   ]
  },
  {
   "cell_type": "markdown",
   "id": "ca4d55dc",
   "metadata": {},
   "source": [
    "*Necesitamos dar forma a los datos de manera diferente que antes. Dado que estamos tratando los datos como imágenes 2D de 28x28 píxeles en lugar de un flujo aplanado de 784 píxeles, debemos darle la forma correspondiente. Dependiendo del formato de datos para el que esté configurado Keras, esto puede ser 1x28x28 o 28x28x1 (el \"1\" indica un solo canal de color, ya que esto es solo escala de grises. Si estuviéramos tratando con imágenes en color, serían 3 en lugar de 1, ya que tendríamos canales de color rojo, verde y azul)*"
   ]
  },
  {
   "cell_type": "code",
   "execution_count": 3,
   "id": "d1e2124a",
   "metadata": {},
   "outputs": [],
   "source": [
    "from tensorflow.keras import backend as K\n",
    "\n",
    "if K.image_data_format() == 'channels_first':\n",
    "    train_images = mnist_train_images.reshape(mnist_train_images.shape[0], 1, 28, 28)\n",
    "    test_images = mnist_test_images.reshape(mnist_test_images.shape[0], 1, 28, 28)\n",
    "    input_shape = (1, 28, 28)\n",
    "else:\n",
    "    train_images = mnist_train_images.reshape(mnist_train_images.shape[0], 28, 28, 1)\n",
    "    test_images = mnist_test_images.reshape(mnist_test_images.shape[0], 28, 28, 1)\n",
    "    input_shape = (28, 28, 1)\n",
    "    \n",
    "train_images = train_images.astype('float32')\n",
    "test_images = test_images.astype('float32')\n",
    "train_images /= 255\n",
    "test_images /= 255"
   ]
  },
  {
   "cell_type": "markdown",
   "id": "a9766117",
   "metadata": {},
   "source": [
    "*Como antes, necesitamos convertir nuestras etiquetas de tren y prueba para que sean categóricas en un formato de un solo calentador:*"
   ]
  },
  {
   "cell_type": "code",
   "execution_count": 4,
   "id": "b4973290",
   "metadata": {},
   "outputs": [],
   "source": [
    "train_labels = tensorflow.keras.utils.to_categorical(mnist_train_labels, 10)\n",
    "test_labels = tensorflow.keras.utils.to_categorical(mnist_test_labels, 10)"
   ]
  },
  {
   "cell_type": "markdown",
   "id": "6dd1f090",
   "metadata": {},
   "source": [
    "*Como verificación de cordura, imprimamos una de las imágenes de entrenamiento con su etiqueta:*"
   ]
  },
  {
   "cell_type": "code",
   "execution_count": 6,
   "id": "6cd69896",
   "metadata": {},
   "outputs": [
    {
     "name": "stdout",
     "output_type": "stream",
     "text": [
      "[0. 0. 0. 1. 0. 0. 0. 0. 0. 0.]\n"
     ]
    },
    {
     "data": {
      "image/png": "[encoded data removed]",
      "text/plain": [
       "<Figure size 640x480 with 1 Axes>"
      ]
     },
     "metadata": {},
     "output_type": "display_data"
    }
   ],
   "source": [
    "import matplotlib.pyplot as plt\n",
    "\n",
    "def display_sample(num):\n",
    "    #Print the one-hot array of this sample's label \n",
    "    print(train_labels[num])  \n",
    "    #Print the label converted back to a number\n",
    "    label = train_labels[num].argmax(axis=0)\n",
    "    #Reshape the 768 values to a 28x28 image\n",
    "    image = train_images[num].reshape([28,28])\n",
    "    plt.title('Muestra: %d  Etiq: %d' % (num, label))\n",
    "    plt.imshow(image, cmap=plt.get_cmap('gray_r'))\n",
    "    plt.show()\n",
    "    \n",
    "display_sample(1234)"
   ]
  },
  {
   "cell_type": "markdown",
   "id": "89e74cba",
   "metadata": {},
   "source": [
    "*Ahora para el meollo del problema. La configuración de una red neuronal convolucional implica más capas. No todos son estrictamente necesarios; Podrías correr sin agruparte y abandonar, pero esos pasos adicionales ayudan a evitar el sobreajuste y ayudan a que las cosas funcionen más rápido.*\n",
    "\n",
    "*Comenzaremos con una convolución 2D de la imagen: está configurada para tomar 32 ventanas, o \"filtros\", de cada imagen, cada filtro tiene un tamaño de 3x3.*\n",
    "\n",
    "*Luego ejecutamos una segunda convolución además de eso con 64 ventanas 3x3 - esta topología es justo lo que viene recomendado en los propios ejemplos de Keras. Una vez más, desea reutilizar investigaciones anteriores siempre que sea posible mientras sintoniza la de CNN, ya que es difícil de hacer.*\n",
    "\n",
    "*A continuación, aplicamos una capa MaxPooling2D que toma el máximo de cada resultado 2x2 para destilar los resultados en algo más manejable.*\n",
    "\n",
    "*Luego se aplica un filtro de caída para evitar el sobreajuste.*\n",
    "\n",
    "*A continuación, aplanamos la capa 2D que tenemos en esta etapa en una capa 1D. Así que en este punto podemos fingir que tenemos un perceptrón multicapa tradicional ...*\n",
    "\n",
    "*... y alimentarlo en una capa oculta y plana de 128 unidades.*\n",
    "\n",
    "*Luego aplicamos la caída nuevamente para evitar aún más el sobreajuste.*\n",
    "\n",
    "*Y finalmente, introducimos eso en nuestras 10 unidades finales donde se aplica softmax para elegir nuestra categoría de 0-9.*"
   ]
  },
  {
   "cell_type": "code",
   "execution_count": 7,
   "id": "d507c593",
   "metadata": {},
   "outputs": [],
   "source": [
    "model = Sequential()\n",
    "model.add(Conv2D(32, kernel_size=(3, 3),\n",
    "                 activation='relu',\n",
    "                 input_shape=input_shape))\n",
    "# 64 3x3 kernels\n",
    "model.add(Conv2D(64, (3, 3), activation='relu'))\n",
    "# Reduce by taking the max of each 2x2 block\n",
    "model.add(MaxPooling2D(pool_size=(2, 2)))\n",
    "# Dropout to avoid overfitting\n",
    "model.add(Dropout(0.25))\n",
    "# Flatten the results to one dimension for passing into our final layer\n",
    "model.add(Flatten())\n",
    "# A hidden layer to learn with\n",
    "model.add(Dense(128, activation='relu'))\n",
    "# Another dropout\n",
    "model.add(Dropout(0.5))\n",
    "# Final categorization from 0-9 with softmax\n",
    "model.add(Dense(10, activation='softmax'))"
   ]
  },
  {
   "cell_type": "markdown",
   "id": "261d3935",
   "metadata": {},
   "source": [
    "*Revisemos la descripción del modelo:*"
   ]
  },
  {
   "cell_type": "code",
   "execution_count": 8,
   "id": "4d6159e7",
   "metadata": {},
   "outputs": [
    {
     "name": "stdout",
     "output_type": "stream",
     "text": [
      "Model: \"sequential\"\n",
      "_________________________________________________________________\n",
      " Layer (type)                Output Shape              Param #   \n",
      "=================================================================\n",
      " conv2d (Conv2D)             (None, 26, 26, 32)        320       \n",
      "                                                                 \n",
      " conv2d_1 (Conv2D)           (None, 24, 24, 64)        18496     \n",
      "                                                                 \n",
      " max_pooling2d (MaxPooling2D  (None, 12, 12, 64)       0         \n",
      " )                                                               \n",
      "                                                                 \n",
      " dropout (Dropout)           (None, 12, 12, 64)        0         \n",
      "                                                                 \n",
      " flatten (Flatten)           (None, 9216)              0         \n",
      "                                                                 \n",
      " dense (Dense)               (None, 128)               1179776   \n",
      "                                                                 \n",
      " dropout_1 (Dropout)         (None, 128)               0         \n",
      "                                                                 \n",
      " dense_1 (Dense)             (None, 10)                1290      \n",
      "                                                                 \n",
      "=================================================================\n",
      "Total params: 1,199,882\n",
      "Trainable params: 1,199,882\n",
      "Non-trainable params: 0\n",
      "_________________________________________________________________\n"
     ]
    }
   ],
   "source": [
    "model.summary()"
   ]
  },
  {
   "cell_type": "markdown",
   "id": "bfd2eb2d",
   "metadata": {},
   "source": [
    "*Todavía estamos haciendo una categorización múltiple, por lo que categorical_crossentropy sigue siendo la función de pérdida correcta para usar. Usaremos el optimizador Adam, aunque el ejemplo proporcionado con Keras usa RMSProp. Es posible que desee probar ambos si tiene tiempo.*"
   ]
  },
  {
   "cell_type": "code",
   "execution_count": 9,
   "id": "69ab03de",
   "metadata": {},
   "outputs": [],
   "source": [
    "model.compile(loss='categorical_crossentropy',\n",
    "              optimizer='adam',\n",
    "              metrics=['accuracy'])"
   ]
  },
  {
   "cell_type": "markdown",
   "id": "c099221c",
   "metadata": {},
   "source": [
    "*Y ahora entrenamos a nuestro modelo... Para que las cosas vayan un poco más rápido, usaremos lotes de 32.*\n",
    "\n",
    "## Advertencia\n",
    "\n",
    "*Esto podría tardar horas en ejecutarse, ¡y la CPU de su computadora se maximizará durante ese tiempo! No ejecute el siguiente bloque a menos que pueda atar su computadora durante mucho tiempo. Imprimirá el progreso a medida que se ejecute cada época, pero cada época puede tomar alrededor de 20 minutos.*"
   ]
  },
  {
   "cell_type": "code",
   "execution_count": null,
   "id": "9e35b8a9",
   "metadata": {},
   "outputs": [],
   "source": [
    "history = model.fit(train_images, train_labels,\n",
    "                    batch_size=32,\n",
    "                    epochs=10,\n",
    "                    verbose=2,\n",
    "                    validation_data=(test_images, test_labels))"
   ]
  },
  {
   "cell_type": "markdown",
   "id": "0fc83247",
   "metadata": {},
   "source": [
    "*¿Valió la pena la espera?*"
   ]
  },
  {
   "cell_type": "code",
   "execution_count": null,
   "id": "1e1d4587",
   "metadata": {},
   "outputs": [],
   "source": [
    "score = model.evaluate(test_images, test_labels, verbose=0)\n",
    "print('Test loss:', score[0])\n",
    "print('Test accuracy:', score[1])"
   ]
  },
  {
   "cell_type": "markdown",
   "id": "fc109453",
   "metadata": {},
   "source": [
    "*¡Más del 99%! ¡Y eso es con solo 10 épocas! Y por lo que parece, 4 o 5 habrían sido suficientes. Tuvo un costo significativo en términos de potencia informática, pero cuando comienzas a distribuir cosas en varias computadoras, cada una con múltiples GPU, ese costo comienza a sentirse menos mal. Si estás construyendo algo donde la vida y la muerte están en juego, como un automóvil sin conductor, cada fracción de porcentaje importa.*"
   ]
  },
  {
   "cell_type": "code",
   "execution_count": null,
   "id": "7a9a0796",
   "metadata": {},
   "outputs": [],
   "source": []
  }
 ],
 "metadata": {
  "kernelspec": {
   "display_name": "Python 3 (ipykernel)",
   "language": "python",
   "name": "python3"
  },
  "language_info": {
   "codemirror_mode": {
    "name": "ipython",
    "version": 3
   },
   "file_extension": ".py",
   "mimetype": "text/x-python",
   "name": "python",
   "nbconvert_exporter": "python",
   "pygments_lexer": "ipython3",
   "version": "3.9.13"
  }
 },
 "nbformat": 4,
 "nbformat_minor": 5
}
