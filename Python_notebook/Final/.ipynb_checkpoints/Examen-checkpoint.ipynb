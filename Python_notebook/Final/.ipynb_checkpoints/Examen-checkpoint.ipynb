{
 "cells": [
  {
   "cell_type": "markdown",
   "id": "235d9b07",
   "metadata": {},
   "source": [
    "## Predecir si una masa de mamografía es benigna o maligna\n",
    "\n",
    "*Utilizaremos el conjunto de datos públicos de \"masas mamográficas\" del repositorio UCI (fuente: https://archive.ics.uci.edu/ml/datasets/Mammographic+Mass)*\n",
    "\n",
    "*Estos datos contienen 961 instancias de masas detectadas en mamografías y contienen los siguientes atributos:*\n",
    "\n",
    "   1. Evaluación BI-RADS: 1 a 5 (ordinal)  \n",
    "   2. Edad: edad del paciente en años (entero)\n",
    "   3. Forma: forma de masa: redonda = 1 oval = 2 lobular = 3 irregular = 4 (nominal)\n",
    "   4. Margen: margen de masa: circunscrito = 1 microlobulado = 2 oscurecido = 3 mal definido = 4 espiculado = 5 (nominal)\n",
    "   5. Densidad: densidad de masa alta = 1 iso = 2 baja = 3 que contiene grasa = 4 (ordinal)\n",
    "   6. Gravedad: benigna = 0 o maligna = 1 (binominal)\n",
    "\n",
    "*BI-RADS es una evaluación de cuán segura es la clasificación de gravedad; No es un atributo \"predictivo\" y, por lo tanto, lo descartaremos. Los atributos de edad, forma, margen y densidad son las características con las que construiremos nuestro modelo, y \"gravedad\" es la clasificación que intentaremos predecir en función de esos atributos.*\n",
    "\n",
    "\n",
    "*Aunque \"forma\" y \"margen\" son tipos de datos nominales, que sklearn generalmente no trata bien, están lo suficientemente cerca del ordinal como para que no deberíamos descartarlos. La \"forma\", por ejemplo, se ordena cada vez más de redonda a irregular.*\n",
    "\n",
    "*Una gran cantidad de angustia y cirugía innecesarias surgen de falsos positivos que surgen de los resultados de la mamografía. Si podemos construir una mejor manera de interpretarlos a través del aprendizaje automático supervisado, podría mejorar muchas vidas.*\n",
    "\n",
    "\n",
    "## Tu tarea\n",
    "\n",
    "*Aplique varias técnicas diferentes de aprendizaje automático supervisado a este conjunto de datos y vea cuál produce la mayor precisión medida con la validación cruzada K-Fold (K = 10). Aplicar:*\n",
    "\n",
    "    * Decision tree\n",
    "    * Random forest\n",
    "    * KNN\n",
    "    * Naive Bayes\n",
    "    * SVM\n",
    "    * Logistic Regression\n",
    "    * And, as a bonus challenge, a neural network using Keras.\n",
    "    \n",
    "*Los datos deben limpiarse; Muchas filas contienen datos faltantes, y también puede haber datos erróneos identificables como valores atípicos.*\n",
    "\n",
    "*Recuerde que algunas técnicas como SVM también requieren que los datos de entrada se normalicen primero.*\n",
    "\n",
    "*Muchas técnicas también tienen \"hiperparámetros\" que necesitan ser ajustados. Una vez que identifique un enfoque prometedor, vea si puede mejorarlo aún más ajustando sus hiperparámetros.*\n",
    "\n",
    "\n",
    "*Pude lograr más del 80% de precisión, ¿puedes superar eso?*\n",
    "\n",
    "*A continuación he configurado un esquema de un cuaderno para este proyecto, con algunas instrucciones y sugerencias. Si estás preparado para un verdadero desafío, ¡intenta hacer este proyecto desde cero en un cuaderno nuevo y limpio!*\n",
    "\n",
    "\n",
    "## Comencemos: prepara tus datos\n",
    "\n",
    "*Comience importando el archivo mammographic_masses.data.txt a un marco de datos Pandas (sugerencia: use read_csv) y échele un vistazo.*"
   ]
  },
  {
   "cell_type": "code",
   "execution_count": 39,
   "id": "9839a1c1",
   "metadata": {},
   "outputs": [
    {
     "data": {
      "text/html": [
       "<div>\n",
       "<style scoped>\n",
       "    .dataframe tbody tr th:only-of-type {\n",
       "        vertical-align: middle;\n",
       "    }\n",
       "\n",
       "    .dataframe tbody tr th {\n",
       "        vertical-align: top;\n",
       "    }\n",
       "\n",
       "    .dataframe thead th {\n",
       "        text-align: right;\n",
       "    }\n",
       "</style>\n",
       "<table border=\"1\" class=\"dataframe\">\n",
       "  <thead>\n",
       "    <tr style=\"text-align: right;\">\n",
       "      <th></th>\n",
       "      <th>BI-RADS</th>\n",
       "      <th>age</th>\n",
       "      <th>shape</th>\n",
       "      <th>margin</th>\n",
       "      <th>density</th>\n",
       "      <th>severity</th>\n",
       "    </tr>\n",
       "  </thead>\n",
       "  <tbody>\n",
       "    <tr>\n",
       "      <th>0</th>\n",
       "      <td>5.0</td>\n",
       "      <td>67.0</td>\n",
       "      <td>3.0</td>\n",
       "      <td>5.0</td>\n",
       "      <td>3.0</td>\n",
       "      <td>1</td>\n",
       "    </tr>\n",
       "    <tr>\n",
       "      <th>1</th>\n",
       "      <td>4.0</td>\n",
       "      <td>43.0</td>\n",
       "      <td>1.0</td>\n",
       "      <td>1.0</td>\n",
       "      <td>NaN</td>\n",
       "      <td>1</td>\n",
       "    </tr>\n",
       "    <tr>\n",
       "      <th>2</th>\n",
       "      <td>5.0</td>\n",
       "      <td>58.0</td>\n",
       "      <td>4.0</td>\n",
       "      <td>5.0</td>\n",
       "      <td>3.0</td>\n",
       "      <td>1</td>\n",
       "    </tr>\n",
       "    <tr>\n",
       "      <th>3</th>\n",
       "      <td>4.0</td>\n",
       "      <td>28.0</td>\n",
       "      <td>1.0</td>\n",
       "      <td>1.0</td>\n",
       "      <td>3.0</td>\n",
       "      <td>0</td>\n",
       "    </tr>\n",
       "    <tr>\n",
       "      <th>4</th>\n",
       "      <td>5.0</td>\n",
       "      <td>74.0</td>\n",
       "      <td>1.0</td>\n",
       "      <td>5.0</td>\n",
       "      <td>NaN</td>\n",
       "      <td>1</td>\n",
       "    </tr>\n",
       "  </tbody>\n",
       "</table>\n",
       "</div>"
      ],
      "text/plain": [
       "   BI-RADS   age  shape  margin  density  severity\n",
       "0      5.0  67.0    3.0     5.0      3.0         1\n",
       "1      4.0  43.0    1.0     1.0      NaN         1\n",
       "2      5.0  58.0    4.0     5.0      3.0         1\n",
       "3      4.0  28.0    1.0     1.0      3.0         0\n",
       "4      5.0  74.0    1.0     5.0      NaN         1"
      ]
     },
     "execution_count": 39,
     "metadata": {},
     "output_type": "execute_result"
    }
   ],
   "source": [
    "import pandas as pd\n",
    "\n",
    "df = pd.read_csv(r'./mammographic_masses.data.txt', na_values=['?'], names = ['BI-RADS', 'age', 'shape', 'margin', 'density', 'severity'])\n",
    "df.head()"
   ]
  },
  {
   "cell_type": "markdown",
   "id": "30463d34",
   "metadata": {},
   "source": [
    "*Evaluar si los datos necesitan limpieza; Su modelo es tan bueno como los datos que se le dan. Sugerencia: use describe() en el marco de datos.*"
   ]
  },
  {
   "cell_type": "code",
   "execution_count": 40,
   "id": "a9b1ccd2",
   "metadata": {},
   "outputs": [
    {
     "data": {
      "text/html": [
       "<div>\n",
       "<style scoped>\n",
       "    .dataframe tbody tr th:only-of-type {\n",
       "        vertical-align: middle;\n",
       "    }\n",
       "\n",
       "    .dataframe tbody tr th {\n",
       "        vertical-align: top;\n",
       "    }\n",
       "\n",
       "    .dataframe thead th {\n",
       "        text-align: right;\n",
       "    }\n",
       "</style>\n",
       "<table border=\"1\" class=\"dataframe\">\n",
       "  <thead>\n",
       "    <tr style=\"text-align: right;\">\n",
       "      <th></th>\n",
       "      <th>BI-RADS</th>\n",
       "      <th>age</th>\n",
       "      <th>shape</th>\n",
       "      <th>margin</th>\n",
       "      <th>density</th>\n",
       "      <th>severity</th>\n",
       "    </tr>\n",
       "  </thead>\n",
       "  <tbody>\n",
       "    <tr>\n",
       "      <th>count</th>\n",
       "      <td>959.000000</td>\n",
       "      <td>956.000000</td>\n",
       "      <td>930.000000</td>\n",
       "      <td>913.000000</td>\n",
       "      <td>885.000000</td>\n",
       "      <td>961.000000</td>\n",
       "    </tr>\n",
       "    <tr>\n",
       "      <th>mean</th>\n",
       "      <td>4.348279</td>\n",
       "      <td>55.487448</td>\n",
       "      <td>2.721505</td>\n",
       "      <td>2.796276</td>\n",
       "      <td>2.910734</td>\n",
       "      <td>0.463059</td>\n",
       "    </tr>\n",
       "    <tr>\n",
       "      <th>std</th>\n",
       "      <td>1.783031</td>\n",
       "      <td>14.480131</td>\n",
       "      <td>1.242792</td>\n",
       "      <td>1.566546</td>\n",
       "      <td>0.380444</td>\n",
       "      <td>0.498893</td>\n",
       "    </tr>\n",
       "    <tr>\n",
       "      <th>min</th>\n",
       "      <td>0.000000</td>\n",
       "      <td>18.000000</td>\n",
       "      <td>1.000000</td>\n",
       "      <td>1.000000</td>\n",
       "      <td>1.000000</td>\n",
       "      <td>0.000000</td>\n",
       "    </tr>\n",
       "    <tr>\n",
       "      <th>25%</th>\n",
       "      <td>4.000000</td>\n",
       "      <td>45.000000</td>\n",
       "      <td>2.000000</td>\n",
       "      <td>1.000000</td>\n",
       "      <td>3.000000</td>\n",
       "      <td>0.000000</td>\n",
       "    </tr>\n",
       "    <tr>\n",
       "      <th>50%</th>\n",
       "      <td>4.000000</td>\n",
       "      <td>57.000000</td>\n",
       "      <td>3.000000</td>\n",
       "      <td>3.000000</td>\n",
       "      <td>3.000000</td>\n",
       "      <td>0.000000</td>\n",
       "    </tr>\n",
       "    <tr>\n",
       "      <th>75%</th>\n",
       "      <td>5.000000</td>\n",
       "      <td>66.000000</td>\n",
       "      <td>4.000000</td>\n",
       "      <td>4.000000</td>\n",
       "      <td>3.000000</td>\n",
       "      <td>1.000000</td>\n",
       "    </tr>\n",
       "    <tr>\n",
       "      <th>max</th>\n",
       "      <td>55.000000</td>\n",
       "      <td>96.000000</td>\n",
       "      <td>4.000000</td>\n",
       "      <td>5.000000</td>\n",
       "      <td>4.000000</td>\n",
       "      <td>1.000000</td>\n",
       "    </tr>\n",
       "  </tbody>\n",
       "</table>\n",
       "</div>"
      ],
      "text/plain": [
       "          BI-RADS         age       shape      margin     density    severity\n",
       "count  959.000000  956.000000  930.000000  913.000000  885.000000  961.000000\n",
       "mean     4.348279   55.487448    2.721505    2.796276    2.910734    0.463059\n",
       "std      1.783031   14.480131    1.242792    1.566546    0.380444    0.498893\n",
       "min      0.000000   18.000000    1.000000    1.000000    1.000000    0.000000\n",
       "25%      4.000000   45.000000    2.000000    1.000000    3.000000    0.000000\n",
       "50%      4.000000   57.000000    3.000000    3.000000    3.000000    0.000000\n",
       "75%      5.000000   66.000000    4.000000    4.000000    3.000000    1.000000\n",
       "max     55.000000   96.000000    4.000000    5.000000    4.000000    1.000000"
      ]
     },
     "execution_count": 40,
     "metadata": {},
     "output_type": "execute_result"
    }
   ],
   "source": [
    "df.describe()"
   ]
  },
  {
   "cell_type": "markdown",
   "id": "346edf3e",
   "metadata": {},
   "source": [
    "*Faltan bastantes valores en el conjunto de datos. Antes de eliminar cada fila que falta de datos, asegurémonos de no sesgar nuestros datos al hacerlo. ¿Parece haber algún tipo de correlación con qué tipo de datos faltan campos? Si lo hubiera, tendríamos que tratar de volver atrás y completar esos datos.*"
   ]
  },
  {
   "cell_type": "code",
   "execution_count": 41,
   "id": "b896c8a5",
   "metadata": {},
   "outputs": [
    {
     "data": {
      "text/html": [
       "<div>\n",
       "<style scoped>\n",
       "    .dataframe tbody tr th:only-of-type {\n",
       "        vertical-align: middle;\n",
       "    }\n",
       "\n",
       "    .dataframe tbody tr th {\n",
       "        vertical-align: top;\n",
       "    }\n",
       "\n",
       "    .dataframe thead th {\n",
       "        text-align: right;\n",
       "    }\n",
       "</style>\n",
       "<table border=\"1\" class=\"dataframe\">\n",
       "  <thead>\n",
       "    <tr style=\"text-align: right;\">\n",
       "      <th></th>\n",
       "      <th>BI-RADS</th>\n",
       "      <th>age</th>\n",
       "      <th>shape</th>\n",
       "      <th>margin</th>\n",
       "      <th>density</th>\n",
       "      <th>severity</th>\n",
       "    </tr>\n",
       "  </thead>\n",
       "  <tbody>\n",
       "    <tr>\n",
       "      <th>1</th>\n",
       "      <td>4.0</td>\n",
       "      <td>43.0</td>\n",
       "      <td>1.0</td>\n",
       "      <td>1.0</td>\n",
       "      <td>NaN</td>\n",
       "      <td>1</td>\n",
       "    </tr>\n",
       "    <tr>\n",
       "      <th>4</th>\n",
       "      <td>5.0</td>\n",
       "      <td>74.0</td>\n",
       "      <td>1.0</td>\n",
       "      <td>5.0</td>\n",
       "      <td>NaN</td>\n",
       "      <td>1</td>\n",
       "    </tr>\n",
       "    <tr>\n",
       "      <th>5</th>\n",
       "      <td>4.0</td>\n",
       "      <td>65.0</td>\n",
       "      <td>1.0</td>\n",
       "      <td>NaN</td>\n",
       "      <td>3.0</td>\n",
       "      <td>0</td>\n",
       "    </tr>\n",
       "    <tr>\n",
       "      <th>6</th>\n",
       "      <td>4.0</td>\n",
       "      <td>70.0</td>\n",
       "      <td>NaN</td>\n",
       "      <td>NaN</td>\n",
       "      <td>3.0</td>\n",
       "      <td>0</td>\n",
       "    </tr>\n",
       "    <tr>\n",
       "      <th>7</th>\n",
       "      <td>5.0</td>\n",
       "      <td>42.0</td>\n",
       "      <td>1.0</td>\n",
       "      <td>NaN</td>\n",
       "      <td>3.0</td>\n",
       "      <td>0</td>\n",
       "    </tr>\n",
       "    <tr>\n",
       "      <th>...</th>\n",
       "      <td>...</td>\n",
       "      <td>...</td>\n",
       "      <td>...</td>\n",
       "      <td>...</td>\n",
       "      <td>...</td>\n",
       "      <td>...</td>\n",
       "    </tr>\n",
       "    <tr>\n",
       "      <th>778</th>\n",
       "      <td>4.0</td>\n",
       "      <td>60.0</td>\n",
       "      <td>NaN</td>\n",
       "      <td>4.0</td>\n",
       "      <td>3.0</td>\n",
       "      <td>0</td>\n",
       "    </tr>\n",
       "    <tr>\n",
       "      <th>819</th>\n",
       "      <td>4.0</td>\n",
       "      <td>35.0</td>\n",
       "      <td>3.0</td>\n",
       "      <td>NaN</td>\n",
       "      <td>2.0</td>\n",
       "      <td>0</td>\n",
       "    </tr>\n",
       "    <tr>\n",
       "      <th>824</th>\n",
       "      <td>6.0</td>\n",
       "      <td>40.0</td>\n",
       "      <td>NaN</td>\n",
       "      <td>3.0</td>\n",
       "      <td>4.0</td>\n",
       "      <td>1</td>\n",
       "    </tr>\n",
       "    <tr>\n",
       "      <th>884</th>\n",
       "      <td>5.0</td>\n",
       "      <td>NaN</td>\n",
       "      <td>4.0</td>\n",
       "      <td>4.0</td>\n",
       "      <td>3.0</td>\n",
       "      <td>1</td>\n",
       "    </tr>\n",
       "    <tr>\n",
       "      <th>923</th>\n",
       "      <td>5.0</td>\n",
       "      <td>NaN</td>\n",
       "      <td>4.0</td>\n",
       "      <td>3.0</td>\n",
       "      <td>3.0</td>\n",
       "      <td>1</td>\n",
       "    </tr>\n",
       "  </tbody>\n",
       "</table>\n",
       "<p>130 rows × 6 columns</p>\n",
       "</div>"
      ],
      "text/plain": [
       "     BI-RADS   age  shape  margin  density  severity\n",
       "1        4.0  43.0    1.0     1.0      NaN         1\n",
       "4        5.0  74.0    1.0     5.0      NaN         1\n",
       "5        4.0  65.0    1.0     NaN      3.0         0\n",
       "6        4.0  70.0    NaN     NaN      3.0         0\n",
       "7        5.0  42.0    1.0     NaN      3.0         0\n",
       "..       ...   ...    ...     ...      ...       ...\n",
       "778      4.0  60.0    NaN     4.0      3.0         0\n",
       "819      4.0  35.0    3.0     NaN      2.0         0\n",
       "824      6.0  40.0    NaN     3.0      4.0         1\n",
       "884      5.0   NaN    4.0     4.0      3.0         1\n",
       "923      5.0   NaN    4.0     3.0      3.0         1\n",
       "\n",
       "[130 rows x 6 columns]"
      ]
     },
     "execution_count": 41,
     "metadata": {},
     "output_type": "execute_result"
    }
   ],
   "source": [
    "df.loc[(df['age'].isnull()) |\n",
    "       (df['shape'].isnull()) |\n",
    "       (df['margin'].isnull()) |\n",
    "       (df['density'].isnull())]"
   ]
  },
  {
   "cell_type": "markdown",
   "id": "adb832b4",
   "metadata": {},
   "source": [
    "*Si los datos que faltan parecen distribuidos aleatoriamente, continúe y elimine las filas con los datos que faltan. Sugerencia: use dropna().*"
   ]
  },
  {
   "cell_type": "code",
   "execution_count": 42,
   "id": "618d1970",
   "metadata": {},
   "outputs": [
    {
     "data": {
      "text/html": [
       "<div>\n",
       "<style scoped>\n",
       "    .dataframe tbody tr th:only-of-type {\n",
       "        vertical-align: middle;\n",
       "    }\n",
       "\n",
       "    .dataframe tbody tr th {\n",
       "        vertical-align: top;\n",
       "    }\n",
       "\n",
       "    .dataframe thead th {\n",
       "        text-align: right;\n",
       "    }\n",
       "</style>\n",
       "<table border=\"1\" class=\"dataframe\">\n",
       "  <thead>\n",
       "    <tr style=\"text-align: right;\">\n",
       "      <th></th>\n",
       "      <th>BI-RADS</th>\n",
       "      <th>age</th>\n",
       "      <th>shape</th>\n",
       "      <th>margin</th>\n",
       "      <th>density</th>\n",
       "      <th>severity</th>\n",
       "    </tr>\n",
       "  </thead>\n",
       "  <tbody>\n",
       "    <tr>\n",
       "      <th>count</th>\n",
       "      <td>830.000000</td>\n",
       "      <td>830.000000</td>\n",
       "      <td>830.000000</td>\n",
       "      <td>830.000000</td>\n",
       "      <td>830.000000</td>\n",
       "      <td>830.000000</td>\n",
       "    </tr>\n",
       "    <tr>\n",
       "      <th>mean</th>\n",
       "      <td>4.393976</td>\n",
       "      <td>55.781928</td>\n",
       "      <td>2.781928</td>\n",
       "      <td>2.813253</td>\n",
       "      <td>2.915663</td>\n",
       "      <td>0.485542</td>\n",
       "    </tr>\n",
       "    <tr>\n",
       "      <th>std</th>\n",
       "      <td>1.888371</td>\n",
       "      <td>14.671782</td>\n",
       "      <td>1.242361</td>\n",
       "      <td>1.567175</td>\n",
       "      <td>0.350936</td>\n",
       "      <td>0.500092</td>\n",
       "    </tr>\n",
       "    <tr>\n",
       "      <th>min</th>\n",
       "      <td>0.000000</td>\n",
       "      <td>18.000000</td>\n",
       "      <td>1.000000</td>\n",
       "      <td>1.000000</td>\n",
       "      <td>1.000000</td>\n",
       "      <td>0.000000</td>\n",
       "    </tr>\n",
       "    <tr>\n",
       "      <th>25%</th>\n",
       "      <td>4.000000</td>\n",
       "      <td>46.000000</td>\n",
       "      <td>2.000000</td>\n",
       "      <td>1.000000</td>\n",
       "      <td>3.000000</td>\n",
       "      <td>0.000000</td>\n",
       "    </tr>\n",
       "    <tr>\n",
       "      <th>50%</th>\n",
       "      <td>4.000000</td>\n",
       "      <td>57.000000</td>\n",
       "      <td>3.000000</td>\n",
       "      <td>3.000000</td>\n",
       "      <td>3.000000</td>\n",
       "      <td>0.000000</td>\n",
       "    </tr>\n",
       "    <tr>\n",
       "      <th>75%</th>\n",
       "      <td>5.000000</td>\n",
       "      <td>66.000000</td>\n",
       "      <td>4.000000</td>\n",
       "      <td>4.000000</td>\n",
       "      <td>3.000000</td>\n",
       "      <td>1.000000</td>\n",
       "    </tr>\n",
       "    <tr>\n",
       "      <th>max</th>\n",
       "      <td>55.000000</td>\n",
       "      <td>96.000000</td>\n",
       "      <td>4.000000</td>\n",
       "      <td>5.000000</td>\n",
       "      <td>4.000000</td>\n",
       "      <td>1.000000</td>\n",
       "    </tr>\n",
       "  </tbody>\n",
       "</table>\n",
       "</div>"
      ],
      "text/plain": [
       "          BI-RADS         age       shape      margin     density    severity\n",
       "count  830.000000  830.000000  830.000000  830.000000  830.000000  830.000000\n",
       "mean     4.393976   55.781928    2.781928    2.813253    2.915663    0.485542\n",
       "std      1.888371   14.671782    1.242361    1.567175    0.350936    0.500092\n",
       "min      0.000000   18.000000    1.000000    1.000000    1.000000    0.000000\n",
       "25%      4.000000   46.000000    2.000000    1.000000    3.000000    0.000000\n",
       "50%      4.000000   57.000000    3.000000    3.000000    3.000000    0.000000\n",
       "75%      5.000000   66.000000    4.000000    4.000000    3.000000    1.000000\n",
       "max     55.000000   96.000000    4.000000    5.000000    4.000000    1.000000"
      ]
     },
     "execution_count": 42,
     "metadata": {},
     "output_type": "execute_result"
    }
   ],
   "source": [
    "df.dropna(inplace=True)\n",
    "df.describe()"
   ]
  },
  {
   "cell_type": "markdown",
   "id": "20c1ef9f",
   "metadata": {},
   "source": [
    "*A continuación, deberá convertir los marcos de datos de Pandas en matrices numpy que puedan ser utilizadas por scikit_learn. Cree una matriz que extraiga solo los datos de entidades con los que queremos trabajar (antigüedad, forma, margen y densidad) y otra matriz que contenga las clases (gravedad). También necesitará una matriz de las etiquetas de nombre de las características.*"
   ]
  },
  {
   "cell_type": "code",
   "execution_count": 43,
   "id": "c9a3d3b9",
   "metadata": {},
   "outputs": [
    {
     "data": {
      "text/plain": [
       "array([[67.,  3.,  5.,  3.],\n",
       "       [58.,  4.,  5.,  3.],\n",
       "       [28.,  1.,  1.,  3.],\n",
       "       ...,\n",
       "       [64.,  4.,  5.,  3.],\n",
       "       [66.,  4.,  5.,  3.],\n",
       "       [62.,  3.,  3.,  3.]])"
      ]
     },
     "execution_count": 43,
     "metadata": {},
     "output_type": "execute_result"
    }
   ],
   "source": [
    "valores = df[['age', 'shape',\n",
    "                             'margin', 'density']].values\n",
    "\n",
    "\n",
    "clases = df['severity'].values\n",
    "\n",
    "nomCaract = ['age', 'shape', 'margin', 'density']\n",
    "\n",
    "valores"
   ]
  },
  {
   "cell_type": "markdown",
   "id": "9b46655d",
   "metadata": {},
   "source": [
    "*Algunos de nuestros modelos requieren que los datos de entrada se normalicen, así que adelante y normalice los datos de atributos. Sugerencia: use el preprocesamiento. StandardScaler().*"
   ]
  },
  {
   "cell_type": "code",
   "execution_count": 44,
   "id": "fe245775",
   "metadata": {},
   "outputs": [
    {
     "data": {
      "text/plain": [
       "array([[ 0.7650629 ,  0.17563638,  1.39618483,  0.24046607],\n",
       "       [ 0.15127063,  0.98104077,  1.39618483,  0.24046607],\n",
       "       [-1.89470363, -1.43517241, -1.157718  ,  0.24046607],\n",
       "       ...,\n",
       "       [ 0.56046548,  0.98104077,  1.39618483,  0.24046607],\n",
       "       [ 0.69686376,  0.98104077,  1.39618483,  0.24046607],\n",
       "       [ 0.42406719,  0.17563638,  0.11923341,  0.24046607]])"
      ]
     },
     "execution_count": 44,
     "metadata": {},
     "output_type": "execute_result"
    }
   ],
   "source": [
    "from sklearn import preprocessing\n",
    "\n",
    "scaler = preprocessing.StandardScaler()\n",
    "valores_scaled = scaler.fit_transform(valores)\n",
    "valores_scaled"
   ]
  },
  {
   "cell_type": "markdown",
   "id": "fb981b0a",
   "metadata": {},
   "source": [
    "## Árboles de decisión (Decision Trees)\n",
    "\n",
    "*Antes de pasar a la validación cruzada de K-Fold y los bosques aleatorios, comience creando una sola división de tren / prueba de nuestros datos. Reserve el 75% para la capacitación y el 25% para las pruebas.*"
   ]
  },
  {
   "cell_type": "code",
   "execution_count": 45,
   "id": "f251e79d",
   "metadata": {},
   "outputs": [],
   "source": [
    "import numpy\n",
    "from sklearn.model_selection import train_test_split\n",
    "\n",
    "numpy.random.seed(1234)\n",
    "\n",
    "(training_inputs,\n",
    " testing_inputs,\n",
    " training_classes,\n",
    " testing_classes) = train_test_split(valores_scaled,clases, train_size=0.75, random_state=1)"
   ]
  },
  {
   "cell_type": "markdown",
   "id": "17c6e6d6",
   "metadata": {},
   "source": [
    "*Ahora cree un DecisionTreeClassifier y ajústelo a sus datos de entrenamiento.*"
   ]
  },
  {
   "cell_type": "code",
   "execution_count": 46,
   "id": "177f30bd",
   "metadata": {},
   "outputs": [
    {
     "data": {
      "text/plain": [
       "DecisionTreeClassifier(random_state=1)"
      ]
     },
     "execution_count": 46,
     "metadata": {},
     "output_type": "execute_result"
    }
   ],
   "source": [
    "from sklearn.tree import DecisionTreeClassifier\n",
    "\n",
    "clf= DecisionTreeClassifier(random_state=1)\n",
    "\n",
    "# Train the classifier on the training set\n",
    "clf.fit(training_inputs, training_classes)"
   ]
  },
  {
   "cell_type": "markdown",
   "id": "fc724a84",
   "metadata": {},
   "source": [
    "*Mida la precisión del modelo de árbol de decisión resultante utilizando los datos de prueba.*"
   ]
  },
  {
   "cell_type": "code",
   "execution_count": 47,
   "id": "19f75a65",
   "metadata": {},
   "outputs": [
    {
     "data": {
      "text/plain": [
       "0.7355769230769231"
      ]
     },
     "execution_count": 47,
     "metadata": {},
     "output_type": "execute_result"
    }
   ],
   "source": [
    "clf.score(testing_inputs, testing_classes)"
   ]
  },
  {
   "cell_type": "markdown",
   "id": "29bfc271",
   "metadata": {},
   "source": [
    "*Ahora, en lugar de una sola división de train / test, use la validación cruzada K-Fold para obtener una mejor medida de la precisión de su modelo (K = 10). Sugerencia: use model_selection.cross_val_score*"
   ]
  },
  {
   "cell_type": "code",
   "execution_count": 48,
   "id": "3d320037",
   "metadata": {},
   "outputs": [
    {
     "data": {
      "text/plain": [
       "0.7373493975903613"
      ]
     },
     "execution_count": 48,
     "metadata": {},
     "output_type": "execute_result"
    }
   ],
   "source": [
    "from sklearn.model_selection import cross_val_score\n",
    "\n",
    "clf = DecisionTreeClassifier(random_state=1)\n",
    "\n",
    "cv_scores = cross_val_score(clf, valores_scaled, clases, cv=10)\n",
    "\n",
    "cv_scores.mean()"
   ]
  },
  {
   "cell_type": "markdown",
   "id": "4148779c",
   "metadata": {},
   "source": [
    "*Ahora pruebe un RandomForestClassifier en su lugar. ¿Funciona mejor?*"
   ]
  },
  {
   "cell_type": "code",
   "execution_count": 49,
   "id": "d0073666",
   "metadata": {},
   "outputs": [
    {
     "data": {
      "text/plain": [
       "0.7421686746987952"
      ]
     },
     "execution_count": 49,
     "metadata": {},
     "output_type": "execute_result"
    }
   ],
   "source": [
    "from sklearn.ensemble import RandomForestClassifier\n",
    "\n",
    "clf = RandomForestClassifier(n_estimators=10, random_state=1)\n",
    "cv_scores = cross_val_score(clf, valores_scaled, clases, cv=10)\n",
    "\n",
    "cv_scores.mean()"
   ]
  },
  {
   "cell_type": "markdown",
   "id": "c0a9f88e",
   "metadata": {},
   "source": [
    "## SVM\n",
    "\n",
    "*A continuación, intente usar svm. SVC con un núcleo lineal. ¿Cómo se compara con el árbol de decisión?*"
   ]
  },
  {
   "cell_type": "code",
   "execution_count": 50,
   "id": "73e1228f",
   "metadata": {},
   "outputs": [
    {
     "data": {
      "text/plain": [
       "0.7975903614457832"
      ]
     },
     "execution_count": 50,
     "metadata": {},
     "output_type": "execute_result"
    }
   ],
   "source": [
    "from sklearn import svm\n",
    "\n",
    "C = 1.0\n",
    "svc = svm.SVC(kernel='linear', C=C)\n",
    "\n",
    "cv_scores = cross_val_score(svc, valores_scaled, clases, cv=10)\n",
    "\n",
    "cv_scores.mean()"
   ]
  },
  {
   "cell_type": "markdown",
   "id": "0532aa16",
   "metadata": {},
   "source": [
    "## KNN\n",
    "\n",
    "\n",
    "*¿Qué hay de K-Nearest-Neighbors? Sugerencia: usa vecinos. KNeighborsClassifier - es mucho más fácil que implementar KNN desde cero como hicimos anteriormente en el curso. Comience con una K de 10. K es un ejemplo de un hiperparámetro, un parámetro en el propio modelo que puede necesitar ser ajustado para obtener los mejores resultados en su conjunto de datos particular.*"
   ]
  },
  {
   "cell_type": "code",
   "execution_count": 51,
   "id": "bbb94c0b",
   "metadata": {},
   "outputs": [
    {
     "data": {
      "text/plain": [
       "0.7927710843373494"
      ]
     },
     "execution_count": 51,
     "metadata": {},
     "output_type": "execute_result"
    }
   ],
   "source": [
    "from sklearn import neighbors\n",
    "\n",
    "import warnings\n",
    "warnings.filterwarnings(\"ignore\")\n",
    "\n",
    "clf = neighbors.KNeighborsClassifier(n_neighbors=10)\n",
    "cv_scores = cross_val_score(clf, valores_scaled, clases, cv=10)\n",
    "\n",
    "cv_scores.mean()"
   ]
  },
  {
   "cell_type": "markdown",
   "id": "13fdc923",
   "metadata": {},
   "source": [
    "*Elegir K es complicado, por lo que no podemos descartar KNN hasta que hayamos probado diferentes valores de K. Escriba un bucle for para ejecutar KNN con valores K que van de 1 a 50 y vea si K hace una diferencia sustancial. Tome nota del mejor rendimiento que podría obtener de KNN.*"
   ]
  },
  {
   "cell_type": "code",
   "execution_count": 52,
   "id": "e6607c02",
   "metadata": {},
   "outputs": [
    {
     "name": "stdout",
     "output_type": "stream",
     "text": [
      "1 0.7228915662650601\n",
      "2 0.6855421686746987\n",
      "3 0.7530120481927711\n",
      "4 0.7385542168674699\n",
      "5 0.7783132530120482\n",
      "6 0.7650602409638554\n",
      "7 0.7975903614457832\n",
      "8 0.7819277108433734\n",
      "9 0.7927710843373493\n",
      "10 0.7927710843373494\n",
      "11 0.7951807228915662\n",
      "12 0.7843373493975905\n",
      "13 0.7843373493975904\n",
      "14 0.7855421686746988\n",
      "15 0.7855421686746988\n",
      "16 0.7831325301204819\n",
      "17 0.7867469879518072\n",
      "18 0.7783132530120482\n",
      "19 0.7855421686746988\n",
      "20 0.7843373493975904\n",
      "21 0.7867469879518072\n",
      "22 0.783132530120482\n",
      "23 0.7795180722891566\n",
      "24 0.7771084337349399\n",
      "25 0.7855421686746988\n",
      "26 0.7831325301204819\n",
      "27 0.7843373493975904\n",
      "28 0.7843373493975904\n",
      "29 0.7867469879518072\n",
      "30 0.7843373493975904\n",
      "31 0.7867469879518072\n",
      "32 0.789156626506024\n",
      "33 0.7867469879518072\n",
      "34 0.789156626506024\n",
      "35 0.7843373493975904\n",
      "36 0.7867469879518072\n",
      "37 0.7831325301204819\n",
      "38 0.7867469879518072\n",
      "39 0.7819277108433734\n",
      "40 0.7843373493975904\n",
      "41 0.7819277108433734\n",
      "42 0.7831325301204819\n",
      "43 0.7831325301204819\n",
      "44 0.7843373493975904\n",
      "45 0.7831325301204819\n",
      "46 0.7831325301204819\n",
      "47 0.7879518072289157\n",
      "48 0.7903614457831325\n",
      "49 0.7903614457831325\n"
     ]
    }
   ],
   "source": [
    "for n in range(1, 50):\n",
    "    clf = neighbors.KNeighborsClassifier(n_neighbors=n)\n",
    "    cv_scores = cross_val_score(clf, valores_scaled, clases, cv=10)\n",
    "    print (n, cv_scores.mean())"
   ]
  },
  {
   "cell_type": "markdown",
   "id": "224af95e",
   "metadata": {},
   "source": [
    "## Naive Bayes\n",
    "\n",
    "Ahora prueba naive_bayes. MultinomialNB. ¿Cómo se compara su precisión?"
   ]
  },
  {
   "cell_type": "code",
   "execution_count": 53,
   "id": "22cc67a0",
   "metadata": {},
   "outputs": [
    {
     "data": {
      "text/plain": [
       "0.7855421686746988"
      ]
     },
     "execution_count": 53,
     "metadata": {},
     "output_type": "execute_result"
    }
   ],
   "source": [
    "from sklearn.naive_bayes import MultinomialNB\n",
    "\n",
    "scaler = preprocessing.MinMaxScaler()\n",
    "valores_minmax = scaler.fit_transform(valores)\n",
    "\n",
    "clf = MultinomialNB()\n",
    "cv_scores = cross_val_score(clf, valores_minmax, clases, cv=10)\n",
    "\n",
    "cv_scores.mean()"
   ]
  },
  {
   "cell_type": "markdown",
   "id": "034177e6",
   "metadata": {},
   "source": [
    "## Revisitando SVM\n",
    "\n",
    "*SVM. SVC puede funcionar de manera diferente con diferentes kernels. La elección del núcleo es un ejemplo de un \"hiperparámetro\". Pruebe los kernels rbf, sigmoid y poly y vea cuál es el kernel de mejor rendimiento. ¿Tenemos un nuevo ganador?*"
   ]
  },
  {
   "cell_type": "code",
   "execution_count": 54,
   "id": "6166725e",
   "metadata": {},
   "outputs": [
    {
     "data": {
      "text/plain": [
       "0.8012048192771084"
      ]
     },
     "execution_count": 54,
     "metadata": {},
     "output_type": "execute_result"
    }
   ],
   "source": [
    "C = 1.0\n",
    "svc = svm.SVC(kernel='rbf', C=C)\n",
    "cv_scores = cross_val_score(svc, valores_scaled, clases, cv=10)\n",
    "cv_scores.mean()"
   ]
  },
  {
   "cell_type": "code",
   "execution_count": 55,
   "id": "fbc962e7",
   "metadata": {},
   "outputs": [
    {
     "data": {
      "text/plain": [
       "0.7457831325301204"
      ]
     },
     "execution_count": 55,
     "metadata": {},
     "output_type": "execute_result"
    }
   ],
   "source": [
    "C = 1.0\n",
    "svc = svm.SVC(kernel='sigmoid', C=C)\n",
    "cv_scores = cross_val_score(svc, valores_scaled, clases, cv=10)\n",
    "cv_scores.mean()"
   ]
  },
  {
   "cell_type": "code",
   "execution_count": 56,
   "id": "5d099d4d",
   "metadata": {},
   "outputs": [
    {
     "data": {
      "text/plain": [
       "0.7903614457831326"
      ]
     },
     "execution_count": 56,
     "metadata": {},
     "output_type": "execute_result"
    }
   ],
   "source": [
    "C = 1.0\n",
    "svc = svm.SVC(kernel='poly', C=C)\n",
    "cv_scores = cross_val_score(svc, valores_scaled, clases, cv=10)\n",
    "cv_scores.mean()"
   ]
  },
  {
   "cell_type": "markdown",
   "id": "51b4deae",
   "metadata": {},
   "source": [
    "## Regresión logística\n",
    "\n",
    "*Hemos probado todas estas técnicas sofisticadas, pero fundamentalmente esto es solo un problema de clasificación binaria. Pruebe la regresión logística, que es una forma sencilla de abordar este tipo de cosas.*"
   ]
  },
  {
   "cell_type": "code",
   "execution_count": 57,
   "id": "33f250b9",
   "metadata": {},
   "outputs": [
    {
     "data": {
      "text/plain": [
       "0.8072289156626505"
      ]
     },
     "execution_count": 57,
     "metadata": {},
     "output_type": "execute_result"
    }
   ],
   "source": [
    "from sklearn.linear_model import LogisticRegression\n",
    "\n",
    "clf = LogisticRegression()\n",
    "cv_scores = cross_val_score(clf, valores_scaled, clases, cv=10)\n",
    "cv_scores.mean()"
   ]
  },
  {
   "cell_type": "markdown",
   "id": "b494cf43",
   "metadata": {},
   "source": [
    "## Redes neuronales\n",
    "\n",
    "*Como desafío adicional, veamos si una red neuronal artificial puede hacerlo aún mejor. Puede usar Keras para configurar una red neuronal con 1 neurona de salida binaria y ver cómo funciona. No tenga miedo de ejecutar un gran número de épocas para entrenar el modelo si es necesario.*"
   ]
  },
  {
   "cell_type": "code",
   "execution_count": 58,
   "id": "d1836707",
   "metadata": {},
   "outputs": [],
   "source": [
    "from tensorflow.keras.layers import Dense\n",
    "from tensorflow.keras.models import Sequential\n",
    "\n",
    "def create_model():\n",
    "    model = Sequential()\n",
    "    #4 feature inputs going into an 6-unit layer (more does not seem to help - in fact you can go down to 4)\n",
    "    model.add(Dense(6, input_dim=4, kernel_initializer='normal', activation='relu'))\n",
    "    # \"Deep learning\" turns out to be unnecessary - this additional hidden layer doesn't help either.\n",
    "    #model.add(Dense(4, kernel_initializer='normal', activation='relu'))\n",
    "    # Output layer with a binary classification (benign or malignant)\n",
    "    model.add(Dense(1, kernel_initializer='normal', activation='sigmoid'))\n",
    "    # Compile model; adam seemed to work best\n",
    "    model.compile(loss='binary_crossentropy', optimizer='adam', metrics=['accuracy'])\n",
    "    return model"
   ]
  },
  {
   "cell_type": "code",
   "execution_count": 59,
   "id": "ed0b590b",
   "metadata": {},
   "outputs": [
    {
     "data": {
      "text/plain": [
       "0.7987951815128327"
      ]
     },
     "execution_count": 59,
     "metadata": {},
     "output_type": "execute_result"
    }
   ],
   "source": [
    "from tensorflow.keras.wrappers.scikit_learn import KerasClassifier\n",
    "\n",
    "# Wrap our Keras model in an estimator compatible with scikit_learn\n",
    "estimator = KerasClassifier(build_fn=create_model, epochs=100, verbose=0)\n",
    "# Now we can use scikit_learn's cross_val_score to evaluate this model identically to the others\n",
    "cv_scores = cross_val_score(estimator, valores_scaled, clases, cv=10)\n",
    "cv_scores.mean()"
   ]
  },
  {
   "cell_type": "markdown",
   "id": "5d875eab",
   "metadata": {},
   "source": [
    "**Podemos observar que en general todos los modelos propuestos nos entregan una precision de entre 79-80, excepto DecisionTree**"
   ]
  },
  {
   "cell_type": "code",
   "execution_count": null,
   "id": "7d914afa",
   "metadata": {},
   "outputs": [],
   "source": []
  }
 ],
 "metadata": {
  "kernelspec": {
   "display_name": "Python 3 (ipykernel)",
   "language": "python",
   "name": "python3"
  },
  "language_info": {
   "codemirror_mode": {
    "name": "ipython",
    "version": 3
   },
   "file_extension": ".py",
   "mimetype": "text/x-python",
   "name": "python",
   "nbconvert_exporter": "python",
   "pygments_lexer": "ipython3",
   "version": "3.9.13"
  }
 },
 "nbformat": 4,
 "nbformat_minor": 5
}
